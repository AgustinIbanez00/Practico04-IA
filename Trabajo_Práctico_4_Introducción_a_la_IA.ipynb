{
  "nbformat": 4,
  "nbformat_minor": 0,
  "metadata": {
    "colab": {
      "name": "Trabajo Práctico 4 - Introducción a la IA.ipynb",
      "provenance": [],
      "authorship_tag": "ABX9TyMNJc/5dByRu8A3kimKrtUl",
      "include_colab_link": true
    },
    "kernelspec": {
      "name": "python3",
      "display_name": "Python 3"
    }
  },
  "cells": [
    {
      "cell_type": "markdown",
      "metadata": {
        "id": "view-in-github",
        "colab_type": "text"
      },
      "source": [
        "<a href=\"https://colab.research.google.com/github/AgustinIbanez00/Practico04-IA/blob/master/Trabajo_Pr%C3%A1ctico_4_Introducci%C3%B3n_a_la_IA.ipynb\" target=\"_parent\"><img src=\"https://colab.research.google.com/assets/colab-badge.svg\" alt=\"Open In Colab\"/></a>"
      ]
    },
    {
      "cell_type": "code",
      "metadata": {
        "id": "3CZM3SF3EC_2",
        "colab_type": "code",
        "colab": {}
      },
      "source": [
        ""
      ],
      "execution_count": null,
      "outputs": []
    },
    {
      "cell_type": "markdown",
      "metadata": {
        "id": "wUBYREpuFfNo",
        "colab_type": "text"
      },
      "source": [
        "# Ejercicio 1"
      ]
    },
    {
      "cell_type": "code",
      "metadata": {
        "id": "ntXj_DzPFi1f",
        "colab_type": "code",
        "colab": {}
      },
      "source": [
        ""
      ],
      "execution_count": null,
      "outputs": []
    },
    {
      "cell_type": "markdown",
      "metadata": {
        "id": "XXyIZFHkEwNr",
        "colab_type": "text"
      },
      "source": [
        ""
      ]
    },
    {
      "cell_type": "markdown",
      "metadata": {
        "id": "kX1CNjd9Ey6n",
        "colab_type": "text"
      },
      "source": [
        "Ejercicio 1"
      ]
    }
  ]
}